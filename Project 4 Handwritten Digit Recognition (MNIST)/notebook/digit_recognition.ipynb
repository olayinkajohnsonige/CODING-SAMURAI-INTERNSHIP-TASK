{
 "cells": [
  {
   "cell_type": "markdown",
   "id": "3da45d52",
   "metadata": {},
   "source": [
    "# **1 Handwritten Digit Recognition (MNIST)**\n",
    "\n",
    "This project demonstrates classification of handwritten digits (0–9) using the MNIST dataset. Each image is a 28x28 grayscale digit. We will go through data preprocessing, model building, and evaluation to train a classifier that can accurately recognize digits from handwritten images."
   ]
  },
  {
   "cell_type": "code",
   "execution_count": null,
   "id": "c8bbd292",
   "metadata": {},
   "outputs": [],
   "source": [
    "#importing necessary libaries\n",
    "import numpy as np\n",
    "import matplotlib.pyplot as plt\n",
    "from tensorflow.keras.datasets import mnist"
   ]
  },
  {
   "cell_type": "markdown",
   "id": "e04c03a3",
   "metadata": {},
   "source": [
    "### **1.1 Dataset Overview**"
   ]
  },
  {
   "cell_type": "markdown",
   "id": "9b388d59",
   "metadata": {},
   "source": [
    "Let's load the data and check its basic structure"
   ]
  },
  {
   "cell_type": "code",
   "execution_count": null,
   "id": "d620e04f",
   "metadata": {},
   "outputs": [],
   "source": [
    "# Load MNIST dataset into training and test sets (images and labels).\n",
    "(x_train, y_train), (x_test, y_test) = mnist.load_data()"
   ]
  },
  {
   "cell_type": "code",
   "execution_count": null,
   "id": "47406041",
   "metadata": {},
   "outputs": [],
   "source": [
    "# Create a data directory and save MNIST arrays in compressed formatfrom pathlib import Path\n",
    "data_dir = Path.cwd().parent / \"data\"\n",
    "data_dir.mkdir(parents=True, exist_ok=True)   \n",
    "\n",
    "np.savez_compressed(\n",
    "    data_dir / \"mnist_data.npz\",\n",
    "    x_train=x_train, y_train=y_train,\n",
    "    x_test=x_test, y_test=y_test\n",
    ")"
   ]
  },
  {
   "cell_type": "code",
   "execution_count": null,
   "id": "4bff1603",
   "metadata": {},
   "outputs": [],
   "source": [
    "# Load MNIST data arrays from the compressed file\n",
    "data_path = Path.cwd().parent / \"data\" / \"mnist_data.npz\"\n",
    "data = np.load(data_path)\n",
    "x_train, y_train = data[\"x_train\"], data[\"y_train\"]\n",
    "x_test, y_test = data[\"x_test\"], data[\"y_test\"]"
   ]
  },
  {
   "cell_type": "code",
   "execution_count": null,
   "id": "f1470d82",
   "metadata": {},
   "outputs": [
    {
     "name": "stdout",
     "output_type": "stream",
     "text": [
      "Training data shape: (60000, 28, 28) (60000,)\n",
      "Testing data shape: (10000, 28, 28) (10000,)\n",
      "First 10 labels: [5 0 4 1 9 2 1 3 1 4]\n"
     ]
    }
   ],
   "source": [
    "# Display shapes of train/test sets and first 10 training labels\n",
    "print(\"Training data shape:\", x_train.shape, y_train.shape)\n",
    "print(\"Testing data shape:\", x_test.shape, y_test.shape)\n",
    "print(\"First 10 labels:\", y_train[:10])\n"
   ]
  },
  {
   "cell_type": "code",
   "execution_count": null,
   "id": "c6d3fcb1",
   "metadata": {},
   "outputs": [
    {
     "data": {
      "image/png": "[encoded data removed]",
      "text/plain": [
       "<Figure size 600x600 with 9 Axes>"
      ]
     },
     "metadata": {},
     "output_type": "display_data"
    }
   ],
   "source": [
    "# Visualize the first 9 images in the training set with their labels\n",
    "plt.figure(figsize=(6,6))\n",
    "for i in range(9):\n",
    "    plt.subplot(3,3,i+1)\n",
    "    plt.imshow(x_train[i], cmap='gray')\n",
    "    plt.title(\"Label: \" + str(y_train[i]))\n",
    "    plt.axis('off')\n",
    "plt.show()\n"
   ]
  },
  {
   "cell_type": "markdown",
   "id": "fe32b150",
   "metadata": {},
   "source": [
    "### **1.2 Data Preprocessing: Normalization and Reshaping**"
   ]
  },
  {
   "cell_type": "code",
   "execution_count": null,
   "id": "44f22133",
   "metadata": {},
   "outputs": [
    {
     "name": "stdout",
     "output_type": "stream",
     "text": [
      "Pixel value range after normalization: 0.0 to 1.0\n"
     ]
    }
   ],
   "source": [
    "# Normalize pixel values to [0,1] and show range after scaling\n",
    "x_train = x_train / 255.0\n",
    "x_test = x_test / 255.0\n",
    "\n",
    "print(\"Pixel value range after normalization:\", x_train.min(), \"to\", x_train.max())\n"
   ]
  },
  {
   "cell_type": "code",
   "execution_count": null,
   "id": "aab363a3",
   "metadata": {},
   "outputs": [
    {
     "name": "stdout",
     "output_type": "stream",
     "text": [
      "x_train shape after reshape: (60000, 784)\n",
      "x_test shape after reshape: (10000, 784)\n"
     ]
    }
   ],
   "source": [
    "# Reshape images from 28x28 to 1D vectors and display new shapes\n",
    "x_train = x_train.reshape(x_train.shape[0], 28*28)\n",
    "x_test = x_test.reshape(x_test.shape[0], 28*28)\n",
    "\n",
    "print(\"x_train shape after reshape:\", x_train.shape)\n",
    "print(\"x_test shape after reshape:\", x_test.shape)\n"
   ]
  },
  {
   "cell_type": "markdown",
   "id": "826e41c6",
   "metadata": {},
   "source": [
    "### **1.3 Model Training**"
   ]
  },
  {
   "cell_type": "code",
   "execution_count": null,
   "id": "5ae1965b",
   "metadata": {},
   "outputs": [],
   "source": [
    "# Import Keras modules for building a neural network model\n",
    "from tensorflow.keras.models import Sequential\n",
    "from tensorflow.keras.layers import Dense, Flatten"
   ]
  },
  {
   "cell_type": "code",
   "execution_count": null,
   "id": "0cc89318",
   "metadata": {},
   "outputs": [],
   "source": [
    "# Build a neural network with two hidden layers and softmax output\n",
    "model = Sequential([\n",
    "    Dense(128, activation='relu', input_shape=(784,)),  \n",
    "    Dense(64, activation='relu'),                      \n",
    "    Dense(10, activation='softmax')                     \n",
    "])"
   ]
  },
  {
   "cell_type": "code",
   "execution_count": null,
   "id": "1b305d0c",
   "metadata": {},
   "outputs": [],
   "source": [
    "# Compile the model with Adam optimizer and sparse categorical crossentropy loss\n",
    "model.compile(optimizer='adam',\n",
    "              loss='sparse_categorical_crossentropy',\n",
    "              metrics=['accuracy'])\n"
   ]
  },
  {
   "cell_type": "code",
   "execution_count": null,
   "id": "cb831f72",
   "metadata": {},
   "outputs": [
    {
     "name": "stdout",
     "output_type": "stream",
     "text": [
      "Epoch 1/5\n",
      "\u001b[1m1875/1875\u001b[0m \u001b[32m━━━━━━━━━━━━━━━━━━━━\u001b[0m\u001b[37m\u001b[0m \u001b[1m5s\u001b[0m 3ms/step - accuracy: 0.9295 - loss: 0.2418 - val_accuracy: 0.9629 - val_loss: 0.1212\n",
      "Epoch 2/5\n",
      "\u001b[1m1875/1875\u001b[0m \u001b[32m━━━━━━━━━━━━━━━━━━━━\u001b[0m\u001b[37m\u001b[0m \u001b[1m4s\u001b[0m 2ms/step - accuracy: 0.9691 - loss: 0.1034 - val_accuracy: 0.9652 - val_loss: 0.1124\n",
      "Epoch 3/5\n",
      "\u001b[1m1875/1875\u001b[0m \u001b[32m━━━━━━━━━━━━━━━━━━━━\u001b[0m\u001b[37m\u001b[0m \u001b[1m4s\u001b[0m 2ms/step - accuracy: 0.9777 - loss: 0.0722 - val_accuracy: 0.9697 - val_loss: 0.0943\n",
      "Epoch 4/5\n",
      "\u001b[1m1875/1875\u001b[0m \u001b[32m━━━━━━━━━━━━━━━━━━━━\u001b[0m\u001b[37m\u001b[0m \u001b[1m5s\u001b[0m 2ms/step - accuracy: 0.9820 - loss: 0.0551 - val_accuracy: 0.9750 - val_loss: 0.0804\n",
      "Epoch 5/5\n",
      "\u001b[1m1875/1875\u001b[0m \u001b[32m━━━━━━━━━━━━━━━━━━━━\u001b[0m\u001b[37m\u001b[0m \u001b[1m4s\u001b[0m 2ms/step - accuracy: 0.9862 - loss: 0.0431 - val_accuracy: 0.9757 - val_loss: 0.0776\n"
     ]
    }
   ],
   "source": [
    "# Train the model for 5 epochs with validation on the test set\n",
    "history = model.fit(x_train, y_train, epochs=5, validation_data=(x_test, y_test))\n"
   ]
  },
  {
   "cell_type": "markdown",
   "id": "60e727ed",
   "metadata": {},
   "source": [
    "### **1.4 Model Evaluation**"
   ]
  },
  {
   "cell_type": "code",
   "execution_count": null,
   "id": "864d307b",
   "metadata": {},
   "outputs": [
    {
     "name": "stdout",
     "output_type": "stream",
     "text": [
      "\u001b[1m313/313\u001b[0m \u001b[32m━━━━━━━━━━━━━━━━━━━━\u001b[0m\u001b[37m\u001b[0m \u001b[1m1s\u001b[0m 2ms/step - accuracy: 0.9757 - loss: 0.0776\n",
      "Test accuracy: 0.9757000207901001\n"
     ]
    },
    {
     "data": {
      "image/png": "[encoded data removed]",
      "text/plain": [
       "<Figure size 640x480 with 1 Axes>"
      ]
     },
     "metadata": {},
     "output_type": "display_data"
    }
   ],
   "source": [
    "# Evaluate the model on the test set and plot training/validation accuracy\n",
    "test_loss, test_acc = model.evaluate(x_test, y_test)\n",
    "print(\"Test accuracy:\", test_acc)\n",
    "plt.plot(history.history['accuracy'], label='Training Accuracy')\n",
    "plt.plot(history.history['val_accuracy'], label='Validation Accuracy')\n",
    "plt.xlabel('Epoch')\n",
    "plt.ylabel('Accuracy')\n",
    "plt.legend()\n",
    "plt.show()\n",
    "\n"
   ]
  },
  {
   "cell_type": "code",
   "execution_count": null,
   "id": "24d52ac4",
   "metadata": {},
   "outputs": [
    {
     "name": "stdout",
     "output_type": "stream",
     "text": [
      "\u001b[1m1/1\u001b[0m \u001b[32m━━━━━━━━━━━━━━━━━━━━\u001b[0m\u001b[37m\u001b[0m \u001b[1m0s\u001b[0m 43ms/step\n"
     ]
    },
    {
     "data": {
      "image/png": "[encoded data removed]",
      "text/plain": [
       "<Figure size 640x480 with 1 Axes>"
      ]
     },
     "metadata": {},
     "output_type": "display_data"
    }
   ],
   "source": [
    "# Make a prediction on a single test image and display the result\n",
    "\n",
    "img = x_test[0]        # first image\n",
    "label = y_test[0]      # true label\n",
    "\n",
    "# Predict\n",
    "prediction = model.predict(img.reshape(1, 784))  # reshape to (1, 784) for single image\n",
    "predicted_label = np.argmax(prediction)          # index of highest probability\n",
    "\n",
    "# Show results\n",
    "plt.imshow(img.reshape(28, 28), cmap='gray')\n",
    "plt.title(f\"True: {label}, Predicted: {predicted_label}\")\n",
    "plt.axis('off')\n",
    "plt.show()"
   ]
  },
  {
   "cell_type": "markdown",
   "id": "df2ea36a",
   "metadata": {},
   "source": [
    "### **1.5 Saving Model Predictions**"
   ]
  },
  {
   "cell_type": "code",
   "execution_count": null,
   "id": "6661e0b7",
   "metadata": {},
   "outputs": [
    {
     "name": "stdout",
     "output_type": "stream",
     "text": [
      "\u001b[1m313/313\u001b[0m \u001b[32m━━━━━━━━━━━━━━━━━━━━\u001b[0m\u001b[37m\u001b[0m \u001b[1m0s\u001b[0m 1ms/step\n",
      "Predictions saved at ..\\scripts\\predicted_labels.npy\n"
     ]
    }
   ],
   "source": [
    "# Save all predicted labels for the test set to a .npy file\n",
    "import numpy as np\n",
    "import os\n",
    "\n",
    "# Make predictions on the whole test set\n",
    "predictions = model.predict(x_test)\n",
    "\n",
    "# Convert probabilities → labels (0–9)\n",
    "predicted_labels = np.argmax(predictions, axis=1)\n",
    "\n",
    "# Save into scripts folder\n",
    "save_path = os.path.join(\"..\", \"scripts\", \"predicted_labels.npy\")\n",
    "np.save(save_path, predicted_labels)\n",
    "\n",
    "print(f\"Predictions saved at {save_path}\")\n"
   ]
  }
 ],
 "metadata": {
  "kernelspec": {
   "display_name": "Python 3",
   "language": "python",
   "name": "python3"
  },
  "language_info": {
   "codemirror_mode": {
    "name": "ipython",
    "version": 3
   },
   "file_extension": ".py",
   "mimetype": "text/x-python",
   "name": "python",
   "nbconvert_exporter": "python",
   "pygments_lexer": "ipython3",
   "version": "3.13.7"
  }
 },
 "nbformat": 4,
 "nbformat_minor": 5
}
